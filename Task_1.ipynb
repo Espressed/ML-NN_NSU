{
 "cells": [
  {
   "cell_type": "markdown",
   "id": "07c5a682",
   "metadata": {},
   "source": [
    "Напишите программу, которая считывает температуру в градусах Цельсия и выводит \"ХОЛОДНО\", если температура меньше 15.5, \"ЖАРКО\", если температура больше 28, и \"НОРМАЛЬНО\" в остальных случаях."
   ]
  },
  {
   "cell_type": "code",
   "execution_count": 1,
   "id": "d22cda56",
   "metadata": {},
   "outputs": [],
   "source": [
    "import pandas as pd\n",
    "import numpy as np\n",
    "import os\n",
    "import matplotlib.pyplot as plt\n",
    "import scipy.interpolate as inter\n",
    "import math as m"
   ]
  },
  {
   "cell_type": "code",
   "execution_count": 2,
   "id": "7e139cd4",
   "metadata": {},
   "outputs": [
    {
     "data": {
      "text/plain": [
       "'C:\\\\Users\\\\Gilin\\\\Downloads'"
      ]
     },
     "execution_count": 2,
     "metadata": {},
     "output_type": "execute_result"
    }
   ],
   "source": [
    "os.getcwd()"
   ]
  },
  {
   "cell_type": "code",
   "execution_count": 3,
   "id": "4904c8bc",
   "metadata": {},
   "outputs": [
    {
     "name": "stdout",
     "output_type": "stream",
     "text": [
      "28.6\n",
      "ЖАРКО\n"
     ]
    }
   ],
   "source": [
    "a = float(input ())\n",
    "if a < 15.5:\n",
    "    print('ХОЛОДНО')\n",
    "else:\n",
    "    if a <= 28:\n",
    "        print('НОРМАЛЬНО')\n",
    "    else:\n",
    "        print('ЖАРКО')"
   ]
  },
  {
   "cell_type": "code",
   "execution_count": 4,
   "id": "d0213e06",
   "metadata": {},
   "outputs": [
    {
     "name": "stdout",
     "output_type": "stream",
     "text": [
      "28\n",
      "НОРМАЛЬНО\n"
     ]
    }
   ],
   "source": [
    "a = float(input ())\n",
    "if a < 15.5:\n",
    "    print('ХОЛОДНО')\n",
    "else:\n",
    "    if a <= 28:\n",
    "        print('НОРМАЛЬНО')\n",
    "    else:\n",
    "        print('ЖАРКО')"
   ]
  },
  {
   "cell_type": "markdown",
   "id": "da0c31d8",
   "metadata": {},
   "source": [
    "Test №1 success "
   ]
  },
  {
   "cell_type": "markdown",
   "id": "5a7ef279",
   "metadata": {},
   "source": [
    "Напишите программу, которая находит кота. Пользователь вводит сначала количество строк, потом сами строки. Если хотя бы в одной введённой строке нашлось сочетание букв «Кот» или «кот», программа выводит «МЯУ», иначе программа выводит «НЕТ»."
   ]
  },
  {
   "cell_type": "code",
   "execution_count": 29,
   "id": "eafb709c",
   "metadata": {},
   "outputs": [
    {
     "name": "stdout",
     "output_type": "stream",
     "text": [
      "4\n",
      "Как устроен типичный фрукт:\n",
      "кожура;\n",
      "мякоть;\n",
      "косточки.\n",
      "МЯУ\n"
     ]
    }
   ],
   "source": [
    "out = 0\n",
    "a = int(input ())\n",
    "for i in range(a):\n",
    "    User_input = str(input())\n",
    "    index = int(User_input.find(\"кот\"))\n",
    "    index_2 = int(User_input.find(\"Кот\"))\n",
    "\n",
    "    \n",
    "    if index>=0:\n",
    "        out = out+1\n",
    "    if index_2>=0:\n",
    "        out = out+1\n",
    "\n",
    "        \n",
    "if out>0:\n",
    "    print('МЯУ')\n",
    "else:\n",
    "    print('НЕТ')\n",
    "\n",
    "    \n",
    "    \n",
    "\n",
    "    \n",
    "    \n",
    "    \n",
    "    \n",
    "        \n",
    "    \n",
    "    \n",
    "    "
   ]
  },
  {
   "cell_type": "markdown",
   "id": "2a08a2a3",
   "metadata": {},
   "source": [
    "Test №2 success"
   ]
  },
  {
   "cell_type": "markdown",
   "id": "1e7d9abe",
   "metadata": {},
   "source": [
    "Напишите программу, которая считывает слова, слово «стоп» — сигнал остановки (оно не должно принимать участие в анализе). Из введённых слов нужно выбрать самое длинное и самое короткое (гарантируется, что все они имеют разную длину) и проверить, есть ли все буквы короткого слова в длинном. Вывести «ДА» или «НЕТ» в зависимости от этого."
   ]
  },
  {
   "cell_type": "code",
   "execution_count": 2,
   "id": "dd1cea84",
   "metadata": {},
   "outputs": [
    {
     "name": "stdout",
     "output_type": "stream",
     "text": [
      "грот\n",
      "вигвам\n",
      "гаррота\n",
      "стоп\n",
      "ДА\n"
     ]
    }
   ],
   "source": [
    "Min = 20\n",
    "Max = 0\n",
    "Minimal_word = 'Min'\n",
    "Maximal_word = 'Max'\n",
    "while True:\n",
    "    User_input = str(input())\n",
    "    index = int(User_input.find(\"стоп\"))\n",
    "    if index>=0:\n",
    "        break\n",
    "    if len(User_input) < Min:\n",
    "        Min = len(User_input)\n",
    "        Minimal_word = User_input\n",
    "    if len(User_input) > Max:\n",
    "        Max = len(User_input)\n",
    "        Maximal_word = User_input\n",
    "\n",
    "Min_set = set(Minimal_word)\n",
    "Max_set = set(Maximal_word)\n",
    "if Min_set<Max_set:\n",
    "    print('ДА')\n",
    "else:\n",
    "    print('НЕТ')\n",
    "    \n",
    "    \n",
    "    \n"
   ]
  },
  {
   "cell_type": "code",
   "execution_count": 3,
   "id": "aa6f0e21",
   "metadata": {},
   "outputs": [
    {
     "name": "stdout",
     "output_type": "stream",
     "text": [
      "чаепитие\n",
      "чашка\n",
      "печенье\n",
      "стоп\n",
      "НЕТ\n"
     ]
    }
   ],
   "source": [
    "Min = 20\n",
    "Max = 0\n",
    "Minimal_word = 'Min'\n",
    "Maximal_word = 'Max'\n",
    "while True:\n",
    "    User_input = str(input())\n",
    "    index = int(User_input.find(\"стоп\"))\n",
    "    if index>=0:\n",
    "        break\n",
    "    if len(User_input) < Min:\n",
    "        Min = len(User_input)\n",
    "        Minimal_word = User_input\n",
    "    if len(User_input) > Max:\n",
    "        Max = len(User_input)\n",
    "        Maximal_word = User_input\n",
    "\n",
    "Min_set = set(Minimal_word)\n",
    "Max_set = set(Maximal_word)\n",
    "if Min_set<Max_set:\n",
    "    print('ДА')\n",
    "else:\n",
    "    print('НЕТ')"
   ]
  },
  {
   "cell_type": "code",
   "execution_count": 4,
   "id": "6de124b0",
   "metadata": {},
   "outputs": [
    {
     "name": "stdout",
     "output_type": "stream",
     "text": [
      "чечевица\n",
      "светопреставление\n",
      "престол\n",
      "стоп\n",
      "ДА\n"
     ]
    }
   ],
   "source": [
    "Min = 20\n",
    "Max = 0\n",
    "Minimal_word = 'Min'\n",
    "Maximal_word = 'Max'\n",
    "while True:\n",
    "    User_input = str(input())\n",
    "    index = int(User_input.find(\"стоп\"))\n",
    "    if index>=0:\n",
    "        break\n",
    "    if len(User_input) < Min:\n",
    "        Min = len(User_input)\n",
    "        Minimal_word = User_input\n",
    "    if len(User_input) > Max:\n",
    "        Max = len(User_input)\n",
    "        Maximal_word = User_input\n",
    "\n",
    "Min_set = set(Minimal_word)\n",
    "Max_set = set(Maximal_word)\n",
    "if Min_set<Max_set:\n",
    "    print('ДА')\n",
    "else:\n",
    "    print('НЕТ')"
   ]
  },
  {
   "cell_type": "markdown",
   "id": "1516e629",
   "metadata": {},
   "source": [
    "Вы собираетесь в магазин и записываете, что нужно купить.\n",
    "Напишите программу, которая считывает сначала количество покупок, потом по очереди сами эти покупки, затем выводит их же в том же порядке.\n"
   ]
  },
  {
   "cell_type": "code",
   "execution_count": 6,
   "id": "3cc232d6",
   "metadata": {},
   "outputs": [
    {
     "name": "stdout",
     "output_type": "stream",
     "text": [
      "4\n",
      "картину\n",
      "корзину\n",
      "картонку\n",
      "маленькую собачонку\n",
      "картину\n",
      "корзину\n",
      "картонку\n",
      "маленькую собачонку\n"
     ]
    }
   ],
   "source": [
    "N = int(input ())\n",
    "A = [ str(input()) for i in range(N) ]\n",
    "for i in range (N):\n",
    "    print(A[i])"
   ]
  },
  {
   "cell_type": "markdown",
   "id": "a2ab110c",
   "metadata": {},
   "source": [
    "Очень холодно, вы дрожите, зуб на зуб не попадает, разговариваете соответственно."
   ]
  },
  {
   "cell_type": "code",
   "execution_count": 13,
   "id": "f05064a3",
   "metadata": {},
   "outputs": [
    {
     "name": "stdout",
     "output_type": "stream",
     "text": [
      "Холодно\n",
      "ХХооллоодднноо\n"
     ]
    }
   ],
   "source": [
    "User_input = str(input())\n",
    "S = list(User_input)\n",
    "print ( \"\".join( [ str(x)*2 for x in S] ) )\n"
   ]
  },
  {
   "cell_type": "markdown",
   "id": "459deac8",
   "metadata": {},
   "source": [
    "Напишите функцию greet(), чтобы она спрашивала у пользователя имя и фамилию (каждое на отдельной строке), а затем выводила официальное приветствие в форме “Здравствуйте, {имя} {фамилия}.”."
   ]
  },
  {
   "cell_type": "code",
   "execution_count": 35,
   "id": "0bcdebd3",
   "metadata": {},
   "outputs": [
    {
     "name": "stdout",
     "output_type": "stream",
     "text": [
      "Данил\n",
      "Гилин\n",
      "Здравствуйте, Данил Гилин.\n"
     ]
    }
   ],
   "source": [
    "Name_input = ''\n",
    "Surname_input = ''\n",
    "def greet():\n",
    "    greetings = (\"Здравствуйте, \" + Name_input + \" \" + Surname_input + \".\")\n",
    "    return print(greetings)\n",
    "    \n",
    "Name_input = str(input())\n",
    "Surname_input = str(input())\n",
    "greet()\n",
    "\n"
   ]
  },
  {
   "cell_type": "code",
   "execution_count": null,
   "id": "5888cb3c",
   "metadata": {},
   "outputs": [],
   "source": []
  }
 ],
 "metadata": {
  "kernelspec": {
   "display_name": "Python 3 (ipykernel)",
   "language": "python",
   "name": "python3"
  },
  "language_info": {
   "codemirror_mode": {
    "name": "ipython",
    "version": 3
   },
   "file_extension": ".py",
   "mimetype": "text/x-python",
   "name": "python",
   "nbconvert_exporter": "python",
   "pygments_lexer": "ipython3",
   "version": "3.9.12"
  }
 },
 "nbformat": 4,
 "nbformat_minor": 5
}
