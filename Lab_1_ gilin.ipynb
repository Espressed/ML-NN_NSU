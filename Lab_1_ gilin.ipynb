{
 "cells": [
  {
   "cell_type": "code",
   "execution_count": 20,
   "id": "fce73f6a",
   "metadata": {},
   "outputs": [
    {
     "name": "stdout",
     "output_type": "stream",
     "text": [
      "[11 22 33 44 55]\n",
      "[ 9 18 27 36 45]\n",
      "5000\n",
      "10000\n"
     ]
    }
   ],
   "source": [
    "import numpy as np\n",
    "spisok2 = np.array ([1, 2, 3, 4, 5])\n",
    "spisok1 = np.array ([10, 20, 30, 40, 50])\n",
    "Pupa_salary = 5000\n",
    "Lupa_salary = 10000\n",
    "\n",
    "class Worker:\n",
    "    def __init__(self):\n",
    "        self._salary = 0\n",
    "     \n",
    "    def take_salary(self, salary):\n",
    "        self._salary = self._salary + salary\n",
    "\n",
    "class Pupa(Worker):\n",
    "    def do_work(self, sp1, sp2):\n",
    "        return sp1 + sp2\n",
    "        \n",
    "\n",
    "class Lupa(Worker):\n",
    "    def do_work(self, sp1, sp2):\n",
    "        return sp1 - sp2\n",
    "\n",
    "class Accountant:\n",
    "    def give_salary(self, worker, salary):\n",
    "        worker.take_salary(salary)\n",
    "\n",
    "\n",
    "        \n",
    "acc = Accountant()\n",
    "pup = Pupa()\n",
    "lup = Lupa()\n",
    "\n",
    "\n",
    "\n",
    "\n",
    "print(pup.do_work(spisok1, spisok2))\n",
    "print(lup.do_work(spisok1, spisok2))\n",
    "acc.give_salary(pup, Pupa_salary)\n",
    "acc.give_salary(lup, Lupa_salary)\n",
    "print(pup._salary)\n",
    "print(lup._salary)\n",
    "\n",
    "\n",
    "\n",
    "\n",
    " \n",
    " \n"
   ]
  },
  {
   "cell_type": "code",
   "execution_count": null,
   "id": "5efa4fce",
   "metadata": {},
   "outputs": [],
   "source": []
  }
 ],
 "metadata": {
  "kernelspec": {
   "display_name": "Python 3 (ipykernel)",
   "language": "python",
   "name": "python3"
  },
  "language_info": {
   "codemirror_mode": {
    "name": "ipython",
    "version": 3
   },
   "file_extension": ".py",
   "mimetype": "text/x-python",
   "name": "python",
   "nbconvert_exporter": "python",
   "pygments_lexer": "ipython3",
   "version": "3.9.12"
  }
 },
 "nbformat": 4,
 "nbformat_minor": 5
}
